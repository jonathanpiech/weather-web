{
 "cells": [
  {
   "cell_type": "code",
   "execution_count": 1,
   "metadata": {},
   "outputs": [],
   "source": [
    "import pandas as pd"
   ]
  },
  {
   "cell_type": "code",
   "execution_count": 4,
   "metadata": {},
   "outputs": [
    {
     "data": {
      "text/html": [
       "<div>\n",
       "<style scoped>\n",
       "    .dataframe tbody tr th:only-of-type {\n",
       "        vertical-align: middle;\n",
       "    }\n",
       "\n",
       "    .dataframe tbody tr th {\n",
       "        vertical-align: top;\n",
       "    }\n",
       "\n",
       "    .dataframe thead th {\n",
       "        text-align: right;\n",
       "    }\n",
       "</style>\n",
       "<table border=\"1\" class=\"dataframe\">\n",
       "  <thead>\n",
       "    <tr style=\"text-align: right;\">\n",
       "      <th></th>\n",
       "      <th>City</th>\n",
       "      <th>Country</th>\n",
       "      <th>Date</th>\n",
       "      <th>Latitude</th>\n",
       "      <th>Longitude</th>\n",
       "      <th>High Temperature (F)</th>\n",
       "      <th>Humidity</th>\n",
       "      <th>Cloudiness</th>\n",
       "      <th>Wind Speed</th>\n",
       "    </tr>\n",
       "  </thead>\n",
       "  <tbody>\n",
       "    <tr>\n",
       "      <th>0</th>\n",
       "      <td>Faya</td>\n",
       "      <td>SA</td>\n",
       "      <td>1568912728</td>\n",
       "      <td>18.39</td>\n",
       "      <td>42.45</td>\n",
       "      <td>80.60</td>\n",
       "      <td>13</td>\n",
       "      <td>20</td>\n",
       "      <td>16.11</td>\n",
       "    </tr>\n",
       "    <tr>\n",
       "      <th>1</th>\n",
       "      <td>Juneau</td>\n",
       "      <td>US</td>\n",
       "      <td>1568912502</td>\n",
       "      <td>58.30</td>\n",
       "      <td>-134.42</td>\n",
       "      <td>53.60</td>\n",
       "      <td>93</td>\n",
       "      <td>90</td>\n",
       "      <td>8.05</td>\n",
       "    </tr>\n",
       "    <tr>\n",
       "      <th>2</th>\n",
       "      <td>Aswan</td>\n",
       "      <td>EG</td>\n",
       "      <td>1568912731</td>\n",
       "      <td>24.09</td>\n",
       "      <td>32.90</td>\n",
       "      <td>102.20</td>\n",
       "      <td>17</td>\n",
       "      <td>0</td>\n",
       "      <td>6.93</td>\n",
       "    </tr>\n",
       "    <tr>\n",
       "      <th>3</th>\n",
       "      <td>Albany</td>\n",
       "      <td>US</td>\n",
       "      <td>1568912440</td>\n",
       "      <td>42.65</td>\n",
       "      <td>-73.75</td>\n",
       "      <td>66.99</td>\n",
       "      <td>39</td>\n",
       "      <td>1</td>\n",
       "      <td>4.70</td>\n",
       "    </tr>\n",
       "    <tr>\n",
       "      <th>4</th>\n",
       "      <td>Ust-Omchug</td>\n",
       "      <td>RU</td>\n",
       "      <td>1568912734</td>\n",
       "      <td>61.13</td>\n",
       "      <td>149.63</td>\n",
       "      <td>32.45</td>\n",
       "      <td>96</td>\n",
       "      <td>99</td>\n",
       "      <td>4.83</td>\n",
       "    </tr>\n",
       "  </tbody>\n",
       "</table>\n",
       "</div>"
      ],
      "text/plain": [
       "         City Country        Date  Latitude  Longitude  High Temperature (F)  \\\n",
       "0        Faya      SA  1568912728     18.39      42.45                 80.60   \n",
       "1      Juneau      US  1568912502     58.30    -134.42                 53.60   \n",
       "2       Aswan      EG  1568912731     24.09      32.90                102.20   \n",
       "3      Albany      US  1568912440     42.65     -73.75                 66.99   \n",
       "4  Ust-Omchug      RU  1568912734     61.13     149.63                 32.45   \n",
       "\n",
       "   Humidity  Cloudiness  Wind Speed  \n",
       "0        13          20       16.11  \n",
       "1        93          90        8.05  \n",
       "2        17           0        6.93  \n",
       "3        39           1        4.70  \n",
       "4        96          99        4.83  "
      ]
     },
     "execution_count": 4,
     "metadata": {},
     "output_type": "execute_result"
    }
   ],
   "source": [
    "df = pd.read_csv(\"cities.csv\")\n",
    "df.head()"
   ]
  },
  {
   "cell_type": "code",
   "execution_count": 7,
   "metadata": {},
   "outputs": [],
   "source": [
    "df.to_html(\"cities.html\")"
   ]
  },
  {
   "cell_type": "code",
   "execution_count": null,
   "metadata": {},
   "outputs": [],
   "source": []
  }
 ],
 "metadata": {
  "kernelspec": {
   "display_name": "Python 3",
   "language": "python",
   "name": "python3"
  },
  "language_info": {
   "codemirror_mode": {
    "name": "ipython",
    "version": 3
   },
   "file_extension": ".py",
   "mimetype": "text/x-python",
   "name": "python",
   "nbconvert_exporter": "python",
   "pygments_lexer": "ipython3",
   "version": "3.7.3"
  }
 },
 "nbformat": 4,
 "nbformat_minor": 2
}
